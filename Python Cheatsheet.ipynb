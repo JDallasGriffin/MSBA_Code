{
 "cells": [
  {
   "cell_type": "markdown",
   "metadata": {},
   "source": [
    "# Python Function CheatSheet"
   ]
  },
  {
   "cell_type": "markdown",
   "metadata": {},
   "source": [
    "## Modules"
   ]
  },
  {
   "cell_type": "code",
   "execution_count": 1,
   "metadata": {
    "collapsed": true
   },
   "outputs": [],
   "source": [
    "#Common\n",
    "\n",
    "%pylab inline\n",
    "\n",
    "import numpy as np #scientific computing & companion tool to pandas \n",
    "from pandas import Series, DataFrame\n",
    "import pandas as pd\n",
    "import math\n",
    "import statsmodels.api as sm\n",
    "from patsy import dmatrices #For describing statistical models (especially linear) & building design matrices. Similar to R formulas\n",
    "import seaborn as sns #Makes plots look purty \n",
    "import sklearn #General statistics library with tons of models & different options - usually better to import specific functions (see below)\n",
    "from sklearn.cross_validation import train_test_split #Module for cross-validation\n",
    "import re #regular expressions\n",
    "\n",
    "\n",
    "#Situational\n",
    "\n",
    "import networkx #Network analysis (and weighted page ranks)\n",
    "import os #Miscellaneous operating system interfaces\n",
    "import pandas_datareader.data as web #Load Data from WEB (i.e. stocks from Yahoo)\n",
    "from mpl_toolkits.mplot3d import Axes3D #3D Graphical Modeling\n",
    "import warnings #Module to turn off warnings\n",
    "warnings.filterwarnings('ignore')"
   ]
  },
  {
   "cell_type": "markdown",
   "metadata": {},
   "source": [
    "## Basic Functions"
   ]
  },
  {
   "cell_type": "code",
   "execution_count": null,
   "metadata": {
    "collapsed": true
   },
   "outputs": [],
   "source": [
    "#Read a file while splitting the lines\n",
    "santa = open('Santa.txt').read().splitlines()\n",
    "\n",
    "#Split a text object by some delimiter (default is space)\n",
    "words = tweet.split()\n",
    "\n",
    "#Join text objects in list together with specified delimiter\n",
    "tweet = \" \".join(words)\n",
    "\n",
    "#Numpy - return array of bins between defined start & stop point\n",
    "np.linspace(0, 4e7, num= 100)\n",
    "# num = Number of samples to generate. Default is 50. Must be non-negative."
   ]
  },
  {
   "cell_type": "markdown",
   "metadata": {},
   "source": [
    "## Panda Functions"
   ]
  },
  {
   "cell_type": "markdown",
   "metadata": {},
   "source": [
    "### Series"
   ]
  },
  {
   "cell_type": "code",
   "execution_count": null,
   "metadata": {
    "collapsed": true
   },
   "outputs": [],
   "source": [
    "#Create Series from list\n",
    "unit_price_series = Series(unit_prices, index=part_names)\n",
    "\n",
    "#Create Series from dictionary\n",
    "obj2 = Series({'Wheels':500, 'Doors':200, 'Windows':100, 'Engine':2000, 'Body':5000})\n",
    "\n",
    "#Access item(s) in Series\n",
    "unit_price_series[['Body', 'Doors', 'Windows']]\n",
    "\n",
    "#Check if item in Series index\n",
    "'Body' in unit_price_series\n",
    "\n",
    "#List-slicing on Series\n",
    "unit_price_series[3:]\n",
    "unit_price_series['Wheels':'Windows']\n",
    "\n",
    "#Apply more complex functions to series using map()\n",
    "unit_price_series.map(math.sqrt)\n",
    "\n",
    "#Built in aggregation formulas\n",
    "unit_price_series.mean()\n",
    "unit_price_series.var()\n",
    "unit_price_series.max()\n",
    "unit_price_series.min()\n",
    "\n",
    "#Find null or not null values\n",
    "missing_series.isnull()\n",
    "missing_series.notnull()\n",
    "\n",
    "#Drop null values\n",
    "missing_series.dropna()\n",
    "\n",
    "#Fill null values\n",
    "missing_series.fillna(-1)\n",
    "\n",
    "#Return frequency of each unique record (and top 10 / bottom 10)\n",
    "vc = orig_data['Complaint Type'].value_counts()\n",
    "vc[:10]\n",
    "vc[-10:]\n",
    "\n",
    "#Plot value counts\n",
    "vc.plot(kind='bar')\n",
    "\n",
    "#Rename index with values from another series (indexes must match)\n",
    "vc_renamed = vc.rename(borough_zip_series)"
   ]
  },
  {
   "cell_type": "markdown",
   "metadata": {},
   "source": [
    "### Dataframes"
   ]
  },
  {
   "cell_type": "code",
   "execution_count": null,
   "metadata": {
    "collapsed": true
   },
   "outputs": [],
   "source": [
    "#Define index on df load or after\n",
    "df = DataFrame(data, index=part_names)\n",
    "df.set_index('Part name', inplace=True)\n",
    "\n",
    "#Count records in df\n",
    "len(df)\n",
    "\n",
    "#Return index as a list\n",
    "df.index.values\n",
    "\n",
    "#Return row for specified record (specification based on df INDEX)\n",
    "car_table.ix['Windows']\n",
    "\n",
    "#Return multiple rows\n",
    "car_table.ix[['Engine', 'Body']]\n",
    "\n",
    "#Return column values\n",
    "car_table.columns.values\n",
    "\n",
    "#Flip rows & columns\n",
    "car_table.T\n",
    "\n",
    "#Load data from CSV OR TXT\n",
    "df = pd.read_csv('Intro_4_Data/CarParts.csv',\n",
    "                 sep='::', # field separator (default is \",\")\n",
    "                 header=None,   # do not use the first line as a header (default to use first line)\n",
    "                 names=['user_id', 'gender', 'age', 'occupation', 'zip'],#Define column headers (header must be set to None)\n",
    "                 nrows=100000,\n",
    "                 dtype=unicode,\n",
    "                 engine = 'python' #use for reading .dat files\n",
    "                 parse_dates=['Created Date']) #Set column as date column. To set index as date, use parse_dates = True\n",
    "\n",
    "#Apply a function across each column in a df\n",
    "def get_column_range(x):\n",
    "    return x.max() - x.min()\n",
    "\n",
    "df.apply(get_column_range)\n",
    "\n",
    "#Sort df by index\n",
    "df.sort_index()\n",
    "\n",
    "#Sort df by a column\n",
    "df.sort_values('Price per unit', ascending = False)\n",
    "\n",
    "#Rank df column\n",
    "reputation_rank = askers['Reputation'].rank(ascending=False)\n",
    "print reputation_rank[:5]\n",
    "\n",
    "#Cut dataset into percentile ranges (can be used to disrectize continus variables into bins)\n",
    "reputation_percentile = pd.qcut(df['Reputation'], 10)\n",
    "reputation_percentile[:5]\n",
    "\n",
    "#Find Quantiles within numbered series\n",
    "state_pop.quantile(0.25) #25th percentile\n",
    "\n",
    "#Remove duplicates, but only for a specific column (i.e. subset)\n",
    "borough_zip_dedup = borough_zip_clean.drop_duplicates(subset='Incident Zip')\n",
    "\n",
    "#Return unique values of a column\n",
    "orig_data['Complaint Type'].unique()\n",
    "\n",
    "#Count unique values of a column\n",
    "orig_data['Complaint Type'].nunique()\n",
    "\n",
    "#Copy a dataframe\n",
    "noise_complaints.copy()\n",
    "\n",
    "#Map list of outcomes in column/series to another list (for instance, to correct mispellings):\n",
    "cars['manufacturer'].replace(['Chevy', 'Chevroelt', 'Toyouta', 'Maxda', 'Vokswagen'],\n",
    "                             ['Chevrolet', 'Chevrolet', 'Toyota', 'Mazda', 'Volkswagen'])"
   ]
  },
  {
   "cell_type": "markdown",
   "metadata": {},
   "source": [
    "#### Joins"
   ]
  },
  {
   "cell_type": "code",
   "execution_count": null,
   "metadata": {
    "collapsed": true
   },
   "outputs": [],
   "source": [
    "#Merge two dataframes\n",
    "questions_askers = pd.merge(questions, askers,\n",
    "                            left_on='OwnerUserId',\n",
    "                            right_on='Id',\n",
    "                            suffixes=['_question', '_asker'])\n",
    "\n",
    "#Join Series (join is on Series Index and index of specified column in DF)\n",
    "gold = gold.set_index('url')\n",
    "labels['gold_class'] = labels['url'].map(gold['class'])"
   ]
  },
  {
   "cell_type": "markdown",
   "metadata": {},
   "source": [
    "#### Aggregations"
   ]
  },
  {
   "cell_type": "code",
   "execution_count": null,
   "metadata": {
    "collapsed": true
   },
   "outputs": [],
   "source": [
    "#Group By\n",
    "mean_group_speed = cars.groupby(['cyl', 'manufacturer'])[['speed']].mean()\n",
    "\n",
    "#Group by user-defined function(s)\n",
    "def speed_range(s):\n",
    "    \"\"\"Given a series of speeds (called s), get the range\"\"\"\n",
    "    return s.max() - s.min()\n",
    "cars.groupby(['cyl', 'manufacturer'])[['speed']].agg(['mean', 'count', speed_range])[:10]\n",
    "\n",
    "# Access hierarchical indexs created by Group By using _tuple_\n",
    "mean_group_speed.ix[(3, 'Mazda')]\n",
    "\n",
    "#Create Pivot Table\n",
    "pivoted = pd.pivot_table(complaints,\n",
    "                         index='Complaint Type',\n",
    "                         columns=['Borough', 'Status'],\n",
    "                         values='count',\n",
    "                         aggfunc=sum,\n",
    "                         fill_value=0)  # fill in missing values\n",
    "\n",
    "#Create a pivot table of dimensions, most common outcome & its frequency - see Pandas 3 Merging & Reshaping\n",
    "most_common = DataFrame({'Most common complaint':pivoted.idxmax(), 'Num complaints':pivoted.max()})\n",
    "\n",
    "#Return the index corresponding to the maximum value for each colum\n",
    "complaint_agency.idxmax()\n",
    "\n",
    "#Rotate rows to columns or vice-versa\n",
    "url_believ = url_believ.unstack('class')\n",
    "url_believ = url_believ.stack('class')\n",
    "\n",
    "#Cross-tab - essentially a Group by w/ count as aggregation\n",
    "rating_vs_target = pd.crosstab(df['rate_marriage'], df['target'])\n",
    "\n",
    "#Normalize cross-tab for comparison\n",
    "total_ratings = rating_vs_target.apply(sum)\n",
    "rating_vs_target /= total_ratings"
   ]
  },
  {
   "cell_type": "markdown",
   "metadata": {},
   "source": [
    "#### Time-Series\n",
    "\n",
    "For calendar dates, use _date_range()_, with a common case being:  \n",
    "date_range(start_date, end_date, freq)  \n",
    "The \"freq\" can be:  \n",
    "'D' for daily  \n",
    "'B' for each business day  \n",
    "'W-MON', 'W-TUE', ... for once a week on Monday, Tuesday, ...  \n",
    "'M' for monthly  \n",
    "...  \n",
    "'WOM-3FRI' for third Friday of the month (usual for option expiry dates)"
   ]
  },
  {
   "cell_type": "code",
   "execution_count": null,
   "metadata": {
    "collapsed": true
   },
   "outputs": [],
   "source": [
    "#Import function\n",
    "df = pd.read_csv('Pandas_6_data/aapl.csv', parse_dates=True).set_index('Date')\n",
    "\n",
    "#Pull various datetime attributes about index\n",
    "sixth_date = df.index[5]\n",
    "sixth_date.year\n",
    "sixth_date.month\n",
    "sixth_date.day\n",
    "sixth_date.dayofweek  # Monday=0, ..., Sunday=6\n",
    "sixth_date.quarter\n",
    "\n",
    "#Slicing in time series\n",
    "closings = df['Close']  # Select one column from our DataFrame; this is a Series\n",
    "closings['2013-05']\n",
    "closings['2012']\n",
    "dates = pd.date_range(start='1/3/2013', end='2/3/2013', freq='W-TUE')\n",
    "\n",
    "#Shift by 1 Day\n",
    "yesterdays_closes = closes.shift(1)\n",
    "\n",
    "# % Change DoD\n",
    "df['percent change'] = (closes / yesterdays_closes - 1) * 100\n",
    "\n",
    "#Aggregations by date-rane:\n",
    "df['Volume'].resample('M', kind='period').sum()[:10]\n",
    "df['Close'].resample('W', kind='period').mean()[:10]\n",
    "\n",
    "#Moving Averages\n",
    "moving_avg_30 = df['Close'].rolling(window=30, min_periods=10).mean()\n",
    "# window = Days trailing to include in average\n",
    "# min_periods = # of days before moving average begins to calculate"
   ]
  },
  {
   "cell_type": "markdown",
   "metadata": {},
   "source": [
    "## Visualizations\n",
    "\n",
    "##### Marker Options\n",
    "marker= 'o' for circle  \n",
    "marker= 's' for square marks  \n",
    "marker= 'p' for pentagons  \n",
    "marker= '.' for points  \n",
    "marker= '^' for upward-pointing triangle  \n",
    "\n",
    "##### Line-Style Options  \n",
    "linestyle= 'None' no line (i.e. scatterplot)  \n",
    "linestyle= '-' for plain line  \n",
    "linestyle= '--' for dashed line  \n",
    "linestyle= '-.' for dotted-dashed line  "
   ]
  },
  {
   "cell_type": "markdown",
   "metadata": {},
   "source": [
    "#### Bar Chart"
   ]
  },
  {
   "cell_type": "code",
   "execution_count": null,
   "metadata": {
    "collapsed": true
   },
   "outputs": [],
   "source": [
    "names['name'].value_counts()[:10].plot(kind='bar')\n",
    "\n",
    "#Panda will automatically stack bar charts for pivot tables\n",
    "df.plot(kind='bar', figsize=(8, 8))\n",
    "\n",
    "#Save figure in active directory\n",
    "savefig('slide_figs/husband_wife_scatter.png')"
   ]
  },
  {
   "cell_type": "markdown",
   "metadata": {},
   "source": [
    "#### Scatterplot\n",
    "\n",
    "For colormap plots:  \n",
    "use the colormap called 'bwr', which goes from blue (b) to white (w) to red (r), dependending on the value of y  \n",
    "the minimum value of y (i.e., 0) gets the color blue  \n",
    "the maximum value of y (i.e., 1) gets red  \n",
    "intermediate values, if they had existed, would have been colored white  "
   ]
  },
  {
   "cell_type": "code",
   "execution_count": null,
   "metadata": {
    "collapsed": true
   },
   "outputs": [],
   "source": [
    "plot(cars['wt'], cars['mpg'], marker='o', color='blue', linestyle='None')\n",
    "xlabel('Weight')\n",
    "ylabel('Miles per Gallon')\n",
    "title('Weight versus Efficiency')\n",
    "show()\n",
    "\n",
    "#Example - Scatterplot Seperated by row dimension\n",
    "plot(cars[cars['cyl'] == 4]['wt'], cars[cars['cyl'] == 4]['mpg'], marker='o', linestyle='None', label='4 cylinder')\n",
    "plot(cars[cars['cyl'] == 6]['wt'], cars[cars['cyl'] == 6]['mpg'], marker='o', linestyle='None', label='6 cylinder')\n",
    "plot(cars[cars['cyl'] == 8]['wt'], cars[cars['cyl'] == 8]['mpg'], marker='o', linestyle='None', label='8 cylinder')\n",
    "xlabel('Weight')\n",
    "ylabel('Miles per Gallon')\n",
    "legend(numpoints=1, loc='best')\n",
    "show()\n",
    "\n",
    "#Plot multiple plots together\n",
    "# First, create a blank figure and \"axis\" objects\n",
    "fig, (ax1, ax2, ax3) = subplots(nrows=3,\n",
    "                                ncols=1,\n",
    "                                sharex=True,\n",
    "                                sharey=True,\n",
    "                                figsize=(8, 12))\n",
    "\n",
    "# Each \"axis\" object corresponds to one subplot\n",
    "# Fill in the subplots.\n",
    "ax1.plot(c4['wt'], c4['mpg'], marker='o', color='blue', linestyle='None')\n",
    "ax1.set_title('4 cylinder')\n",
    "ax1.set_ylabel('MPG')\n",
    "\n",
    "ax2.plot(c6['wt'], c6['mpg'], marker='o', color='green', linestyle='None')\n",
    "ax2.set_title('6 cylinder')\n",
    "ax2.set_ylabel('MPG')\n",
    "\n",
    "ax3.plot(c8['wt'], c8['mpg'], marker='o', color='red', linestyle='None')\n",
    "ax3.set_title('8 cylinder')\n",
    "ax3.set_ylabel('MPG')\n",
    "ax3.set_xlabel('Weight')\n",
    "\n",
    "show()\n",
    "\n",
    "#Scatterplot w/ color scale (for logistic regression in this case)\n",
    "y = Y['target'].values\n",
    "\n",
    "sc = scatter(X_train['sepal_length'], X_train['sepal_width'], c=y_train, cmap='bwr')\n",
    "colorbar(sc)\n",
    "xlabel('Sepal length')\n",
    "ylabel('Sepal width')"
   ]
  },
  {
   "cell_type": "markdown",
   "metadata": {},
   "source": [
    "#### Line Chart"
   ]
  },
  {
   "cell_type": "code",
   "execution_count": null,
   "metadata": {
    "collapsed": true
   },
   "outputs": [],
   "source": [
    "#Line-plot w/ multiple lines (each one a column)\n",
    "\n",
    "plot(births['year'], births['M'], marker='None', linestyle='-', label='boys')\n",
    "plot(births['year'], births['F'], marker='None', linestyle='-', label='girls')\n",
    "xlabel('Year')\n",
    "ylabel('Number of births')\n",
    "legend(loc='best')\n",
    "show()\n",
    "\n",
    "#Short-cut when plotting a series (below are equal)\n",
    "Series.plot()\n",
    "plot(Series.index.values, Series.values)\n",
    "\n",
    "#Panda built-in function for plotting multiple charts by separated dimension\n",
    "year_name_pivot[['Sammy', 'Arturo', 'Emery', 'Walker']].plot(subplots=True, figsize=(8, 12))"
   ]
  },
  {
   "cell_type": "markdown",
   "metadata": {},
   "source": [
    "#### Histogram"
   ]
  },
  {
   "cell_type": "code",
   "execution_count": null,
   "metadata": {
    "collapsed": true
   },
   "outputs": [],
   "source": [
    "cars['mpg'].hist()\n",
    "xlabel('Miles per gallon')\n",
    "ylabel('Frequency')\n",
    "\n",
    "#Plot normalized histogram\n",
    "df.hist(normed=1)"
   ]
  },
  {
   "cell_type": "markdown",
   "metadata": {},
   "source": [
    "#### Box-Plot"
   ]
  },
  {
   "cell_type": "code",
   "execution_count": null,
   "metadata": {
    "collapsed": true
   },
   "outputs": [],
   "source": [
    "husband_wife.boxplot(column='Wife', by='husband_groups', figsize=(12,8), fontsize=28)"
   ]
  },
  {
   "cell_type": "markdown",
   "metadata": {},
   "source": [
    "#### Misc. Charts"
   ]
  },
  {
   "cell_type": "code",
   "execution_count": 4,
   "metadata": {
    "collapsed": false
   },
   "outputs": [
    {
     "name": "stdout",
     "output_type": "stream",
     "text": [
      "Populating the interactive namespace from numpy and matplotlib\n"
     ]
    },
    {
     "data": {
      "text/plain": [
       "<seaborn.axisgrid.JointGrid at 0xd44bba8>"
      ]
     },
     "execution_count": 4,
     "metadata": {},
     "output_type": "execute_result"
    },
    {
     "data": {
      "image/png": "[encoded data removed]",
      "text/plain": [
       "<matplotlib.figure.Figure at 0xd46d128>"
      ]
     },
     "metadata": {},
     "output_type": "display_data"
    }
   ],
   "source": [
    "#Awesome chart for joint distribution of two variables\n",
    "import seaborn as sns\n",
    "%pylab inline\n",
    "tips = sns.load_dataset(\"tips\")\n",
    "sns.jointplot(\"total_bill\", \"tip\", tips, kind='reg')"
   ]
  },
  {
   "cell_type": "code",
   "execution_count": 6,
   "metadata": {
    "collapsed": false
   },
   "outputs": [
    {
     "data": {
      "image/png": "[encoded data removed]",
      "text/plain": [
       "<matplotlib.figure.Figure at 0xd43f2b0>"
      ]
     },
     "metadata": {},
     "output_type": "display_data"
    }
   ],
   "source": [
    "#Plot a scattor plot segregated by a selected Panda column\n",
    "sns.lmplot(\"total_bill\", \"tip\", tips, col=\"smoker\");"
   ]
  },
  {
   "cell_type": "markdown",
   "metadata": {},
   "source": [
    "## Basic Statistics"
   ]
  },
  {
   "cell_type": "code",
   "execution_count": null,
   "metadata": {
    "collapsed": true
   },
   "outputs": [],
   "source": [
    "#Provide summary statistics for a series, dataframe or groupby\n",
    "state_pop.describe()\n",
    "census_pop_statistics = census_pop.groupby('REGION NAME').describe()\n",
    "\n",
    "#Calculate Standard Deviation\n",
    "state_census['POPESTIMATE2014'].std()\n",
    "\n",
    "#Plot histogram with line for median & mean\n",
    "mean = state_pop.mean()\n",
    "median = state_pop.median()\n",
    "\n",
    "state_pop.hist(bins=10)                                                     # Histogram\n",
    "plot([mean, mean], [0, 30], color='red', linewidth=5, label='Mean')         # Mean\n",
    "plot([median, median], [0, 30], color='green', linewidth=5, label='Median') # Median\n",
    "legend(loc='best')\n",
    "\n",
    "#Calculate correlation between two series\n",
    "heights['parent'].corr(heights['child'])\n",
    "\n",
    "#Simple Linear Regression (built-in to Pandas vanilla - see below for more fleixble option)\n",
    "\n",
    "#Define linear regression model\n",
    "result = pd.ols(x=cars['wt'], y=cars['mpg'])\n",
    "#Basic report of linear model:\n",
    "result\n",
    "\n",
    "#Return specific values of interest\n",
    "result.beta['intercept'] # intercept\n",
    "result.beta['x'] # slope\n",
    "result.params #all parameters of model\n",
    "result.r2 # R-squared\n",
    "result.p_value #P Value"
   ]
  },
  {
   "cell_type": "markdown",
   "metadata": {},
   "source": [
    "## Statistical Modeling Process (w/ sklearn)"
   ]
  },
  {
   "cell_type": "code",
   "execution_count": null,
   "metadata": {
    "collapsed": true
   },
   "outputs": [],
   "source": [
    "#STEP 1 - Create Design Matrix - this will automatically create dummy variables\n",
    "y, X = dmatrices('Lottery ~ Literacy + Wealth', data=guerry, return_type='dataframe') #must import patsy\n",
    "# * If classification problem, then need to complete extra step of converting y values to list\n",
    "y = y['Lottery'].values\n",
    "\n",
    "#EXTRA - To deal with column headers with unaccepted characters (i.e. \"(\"):\n",
    "formula = 'is_spam ~ ' + ' + '.join(['Q(\"'+x+'\")' for x in df.columns.values[:-1]])\n",
    "Y, X = dmatrices(formula, df, return_type='dataframe')\n",
    "print formula\n",
    "\n",
    "#EXTRA - Scale the data\n",
    "from sklearn.preprocessing import scale\n",
    "scaled_images = scale(digits.data)\n",
    "\n",
    "#STEP 2 - Split into train & test set\n",
    "\n",
    "X_train, X_test, y_train, y_test = train_test_split(X, y, test_size=0.3, random_state=1) #must import sklearn\n",
    "\n",
    "#EXTRA 1 - K-Fold Cross Validation - see Classification 1 Nearest Neighbors for details on how to use\n",
    "from sklearn import cross_validation\n",
    "kfold = cross_validation.StratifiedKFold(y, n_folds=3)\n",
    "\n",
    "#Look at first five results\n",
    "X_train.iloc[0:5]\n",
    "\n",
    "#STEP 3 - Define Model\n",
    "model = sm.OLS(y, X)\n",
    "\n",
    "#STEP 4 - Fit training data to model\n",
    "result = model.fit(X_train, y_train)\n",
    "\n",
    "#STEP 5 - Review Summary Statistics of Model:\n",
    "\n",
    "print result.summary()\n",
    "\n",
    "#Return values of interest of model\n",
    "result.params #model parameters\n",
    "result.pvalues #p-values\n",
    "result.rsquared # R-squared\n",
    "\n",
    "#STEP 6 - Use fitted model to predict Y values for training & test data\n",
    "from sklearn import metrics\n",
    "prediction_train = model.predict(X_train)\n",
    "prediction_test = model.predict(X_test)\n",
    "\n",
    "#To get scores rather then classifications:\n",
    "model.predict_proba(X_train.iloc[0:5])\n",
    "\n",
    "#STEP 7 - Evaluate accuracy of fit for training & test data\n",
    "print metrics.accuracy_score(y_train, prediction_train)\n",
    "print metrics.accuracy_score(y_test, prediction_test)\n",
    "\n",
    "#EXTRA 2 - Fit Confusion Matrix\n",
    "\n",
    "cm = confusion_matrix(prediction_test, y_test)\n",
    "\n",
    "#visualize cm\n",
    "\n",
    "matshow(cm)\n",
    "xticks([0, 1, 2, 3], news_train.target_names, rotation='vertical')\n",
    "yticks([0, 1, 2, 3], news_train.target_names)\n",
    "colorbar()\n",
    "ylabel('True Labels')\n",
    "xlabel('Predicted Labels')\n",
    "\n",
    "#Create precision-recall curve\n",
    "precision, recall, _ = precision_recall_curve(y_test, pred_probs[:, idx], pos_label=idx)"
   ]
  },
  {
   "cell_type": "markdown",
   "metadata": {},
   "source": [
    "## Predictive Models"
   ]
  },
  {
   "cell_type": "code",
   "execution_count": null,
   "metadata": {
    "collapsed": true
   },
   "outputs": [],
   "source": [
    "#Linear Regression (or multiple regression)\n",
    "model = sm.OLS(y, X)\n",
    "\n",
    "#Logistic Regression - everything but the function to generate model is the same\n",
    "model = sm.Logit(y, X)\n",
    "\n",
    "    #Extra - Create series for model coefficients\n",
    "    weights = Series(model.coef_[0],\n",
    "                     index=X.columns.values)\n",
    "    weights.sort_values()\n",
    "\n",
    "#KNN\n",
    "from sklearn import neighbors\n",
    "model = neighbors.KNeighborsClassifier(n_neighbors=15,\n",
    "                                       weights='uniform', #can set to \"distance\" if you want closer neighbors to contribute more\n",
    "                                       p=2) #p=2 is Euclidean distance\n",
    "\n",
    "    #Function to chose best K for KNN\n",
    "    clf = sklearn.grid_search.GridSearchCV(knn, parameters, cv =10)\n",
    "\n",
    "#Naive Bayes\n",
    "#Requires all dummy variables, which patsy doesn't do. Need to use a pandas-specific way of dummy encoding (See Classification 2)\n",
    "from sklearn import naive_bayes\n",
    "model = naive_bayes.MultinomialNB()\n",
    "\n",
    "print 'Prior probability for the negative class is',\n",
    "print exp(model.class_log_prior_[0])\n",
    "print 'Prior probability for the positive class is',\n",
    "print exp(model.class_log_prior_[1])\n",
    "\n",
    "#Decision Tree\n",
    "from sklearn import tree\n",
    "model = tree.DecisionTreeClassifier(criterion='entropy'\n",
    "                                   , max_depth=2) #set depth of tree (optional)\n",
    "\n",
    "    #Print Decision Tree\n",
    "    from StringIO import StringIO\n",
    "    import pydot_ng\n",
    "    dot_data = StringIO()\n",
    "    tree.export_graphviz(model2, out_file=dot_data, feature_names=X.columns.values)\n",
    "    pydot_ng.graph_from_dot_data(dot_data.getvalue()).write_png('Classification_4_data/titanic2.png')\n",
    "    \n",
    "    #Run K-Folds & iterate over max depth\n",
    "    from sklearn.cross_validation import cross_val_score\n",
    "    from sklearn import cross_validation\n",
    "\n",
    "    # Create the folds in the training data\n",
    "    cv = cross_validation.StratifiedKFold(y_train, n_folds=3, shuffle=True)\n",
    "\n",
    "    # Iterate over max_depth\n",
    "    for max_depth in [1, 2, 3, 4, 5]:\n",
    "        model3 = tree.DecisionTreeClassifier(criterion='entropy', max_depth=max_depth)\n",
    "        scores = cross_val_score(model3, X_train, y_train, cv=cv)\n",
    "        print 'max_depth =', max_depth, 'score =', scores, 'avg score =', scores.mean()\n",
    "        \n",
    "#Bagging\n",
    "bagging = BaggingClassifier(tree.DecisionTreeClassifier(criterion='entropy'), random_state=1)\n",
    "\n",
    "# bagging.estimators_ contains the list of all the decision trees\n",
    "\n",
    "#Random Forests\n",
    "from sklearn.ensemble import RandomForestClassifier\n",
    "model_rf = RandomForestClassifier(n_estimators=10, random_state=1)\n",
    "\n",
    "#Boosting (Gradient Boosted Decision Tree)\n",
    "from sklearn.ensemble import GradientBoostingClassifier\n",
    "boosted_tree = GradientBoostingClassifier(n_estimators=100, random_state=1)\n"
   ]
  },
  {
   "cell_type": "markdown",
   "metadata": {},
   "source": [
    "## Clustering Models"
   ]
  },
  {
   "cell_type": "code",
   "execution_count": null,
   "metadata": {
    "collapsed": true
   },
   "outputs": [],
   "source": [
    "#K-Means\n",
    "from sklearn.cluster import KMeans\n",
    "km = KMeans(n_clusters=4, init='k-means++', random_state=1) #k-means++ uses a better algo for initialization\n",
    "\n",
    "#Model fit is same formula, but now for only X:\n",
    "model.fit(X)\n",
    "\n",
    "#Get basic info about clusters\n",
    "model.cluster_centers_ #Cluster Centers\n",
    "model.labels_ #Cluster labels for every point\n",
    "\n",
    "#Plot cluster centers\n",
    "scatter(X[:,0], X[:,1], c=model.labels_, cmap='gist_ncar')\n",
    "scatter(model.cluster_centers_[:,0], model.cluster_centers_[:,1], marker=\"x\", s=200, linewidths=5)\n",
    "\n",
    "#Plot sum of distance for number of clusters in range\n",
    "sum_of_distances = {}\n",
    "for num_clusters in range(1,16):\n",
    "    kmeans = KMeans(n_clusters=num_clusters, random_state=1)\n",
    "    kmeans.fit(X)\n",
    "    sum_of_distances[num_clusters] = kmeans.inertia_\n",
    "Series(sum_of_distances).sort_index().plot()\n",
    "xlabel('Number of clusters')\n",
    "ylabel('Sum of distances of points to closest cluster centers')"
   ]
  },
  {
   "cell_type": "markdown",
   "metadata": {},
   "source": [
    "## Text Analytics"
   ]
  },
  {
   "cell_type": "code",
   "execution_count": null,
   "metadata": {
    "collapsed": true
   },
   "outputs": [],
   "source": [
    "#TF-IDF\n",
    "\n",
    "# Calculate TF\n",
    "from sklearn.feature_extraction.text import CountVectorizer\n",
    "\n",
    "vect_tf = CountVectorizer(stop_words='english')\n",
    "X_train['TF'] = vect_tf.fit_transform(news_train.data)\n",
    "\n",
    "# Calculate TF-IDF\n",
    "from sklearn.feature_extraction.text import TfidfVectorizer\n",
    "\n",
    "vect_tfidf = TfidfVectorizer(stop_words='english')\n",
    "X_train['TFIDF'] = vect_tfidf.fit_transform(news_train.data)"
   ]
  },
  {
   "cell_type": "markdown",
   "metadata": {},
   "source": [
    "## Boot-Strapping\n",
    "\n",
    "How to create one bootstrapped sample:  \n",
    "1. Draw one random observation from the given sample  \n",
    "2. Repeat samplesize times  \n",
    "3. Output: a bootstrapped sample with samplesize observations\n",
    "\n",
    "To get the CI:\n",
    "\n",
    "* Draw multiple bootstrapped samples\n",
    "    * For each, compute the bootstrapped sample mean\n",
    "* Use the distribution of the bootstrapped sample means to compute the CI"
   ]
  },
  {
   "cell_type": "code",
   "execution_count": null,
   "metadata": {
    "collapsed": true
   },
   "outputs": [],
   "source": [
    "#Function to create boot-strap sample means for dataset.\n",
    "#**NEED TO FIND & ADD STANDARD FUNCTIONS FOR THIS\n",
    "\n",
    "def bootstrapped_means(samples, num_bootstraps=100000, verbose=True):\n",
    "    samplesize = len(samples)\n",
    "\n",
    "    # Get a bunch of indices for the boostrapped samples\n",
    "    idx = np.random.randint(0, samplesize, (num_bootstraps, samplesize))\n",
    "    bootstrapped_samples = samples[idx]\n",
    "    bootstrapped_sample_means = np.mean(bootstrapped_samples, axis=1)\n",
    "    \n",
    "    if verbose:\n",
    "        # Plot the histogram\n",
    "        s = Series(bootstrapped_sample_means)\n",
    "        s.hist(bins=20)\n",
    "    \n",
    "        print 'Bootstrapped means with samplesize={}'.format(samplesize)\n",
    "        print '\\t avg={} std={}'.format(s.mean(), s.std())\n",
    "    \n",
    "    # Compute the Confidence interval\n",
    "    sorted_means = sorted(bootstrapped_sample_means)\n",
    "    CI_low = sorted_means[int(0.025 * len(sorted_means))]\n",
    "    CI_high = sorted_means[int(0.975 * len(sorted_means))]\n",
    "    if verbose:\n",
    "        print '\\t 95% Confidence interval = [{}, {}]'.format(CI_low, CI_high)\n",
    "    return CI_low, CI_high"
   ]
  }
 ],
 "metadata": {
  "kernelspec": {
   "display_name": "Python [Root]",
   "language": "python",
   "name": "Python [Root]"
  },
  "language_info": {
   "codemirror_mode": {
    "name": "ipython",
    "version": 2
   },
   "file_extension": ".py",
   "mimetype": "text/x-python",
   "name": "python",
   "nbconvert_exporter": "python",
   "pygments_lexer": "ipython2",
   "version": "2.7.12"
  }
 },
 "nbformat": 4,
 "nbformat_minor": 0
}
