{
 "cells": [
  {
   "cell_type": "code",
   "execution_count": 1,
   "metadata": {
    "collapsed": false
   },
   "outputs": [
    {
     "name": "stdout",
     "output_type": "stream",
     "text": [
      "Populating the interactive namespace from numpy and matplotlib\n"
     ]
    }
   ],
   "source": [
    "%pylab inline"
   ]
  },
  {
   "cell_type": "markdown",
   "metadata": {},
   "source": [
    "For each word, need to know:\n",
    "    1. Count\n",
    "    2. Sum\n",
    "    3. Min # of times word appears (>0)\n",
    "    4. Max # of times word appears\n",
    "    5. Mean (where word appears)\n",
    "    6. Variance (where word appears)\n",
    "    7. Sum of squares"
   ]
  },
  {
   "cell_type": "code",
   "execution_count": 32,
   "metadata": {
    "collapsed": false
   },
   "outputs": [],
   "source": [
    "#Mapper Function - Test Script\n",
    "data_small = open(\"dataSet2Small.txt\",\"r\")\n",
    "data_small = data_small.readlines()\n",
    "for x in data_small:\n",
    "    #Convert to lowercase, remove line-breaks then split into words for each line\n",
    "    words = x.lower().strip().split(' ')\n",
    "    #Open up text file to save output to (only necessary for test code)\n",
    "    text_file = open(\"output.txt\", \"a\")\n",
    "    #Initialize word count dict\n",
    "    wordcount={}\n",
    "    \n",
    "    for word in words:\n",
    "        if word not in wordcount:\n",
    "            wordcount[word] = 1\n",
    "        else:\n",
    "            wordcount[word] += 1\n",
    "    for k,v in wordcount.items():\n",
    "        #print '%s\\t%s' % (k, v)\n",
    "        text_file.write('%s\\t%s\\n' % (k, v))\n",
    "        \n",
    "    text_file.close()"
   ]
  },
  {
   "cell_type": "code",
   "execution_count": 125,
   "metadata": {
    "collapsed": false
   },
   "outputs": [
    {
     "name": "stdout",
     "output_type": "stream",
     "text": [
      "sir\t\"10\t55\t359\t2\t9\t  5.50\t  5.65\"\n",
      "lazy\t\"10\t57\t375\t2\t10\t  5.70\t  5.01\"\n",
      "brown\t\"10\t49\t255\t3\t8\t  4.90\t  1.49\"\n",
      "jumped\t\"10\t45\t265\t2\t11\t  4.50\t  6.25\"\n",
      "over\t\"10\t47\t277\t1\t9\t  4.70\t  5.61\"\n",
      "fox\t\"9\t46\t272\t2\t8\t  5.11\t  4.10\"\n",
      "dog\t\"10\t54\t330\t2\t9\t  5.40\t  3.84\"\n",
      "quick\t\"10\t50\t324\t1\t9\t  5.00\t  7.40\"\n",
      "the\t\"10\t102\t1084\t7\t14\t 10.20\t  4.36\"\n"
     ]
    }
   ],
   "source": [
    "#Reducer Function - Test Script\n",
    "reducer_small = open(\"output.txt\",\"r\")\n",
    "reducer_small = reducer_small.readlines()\n",
    "\n",
    "wordcount = {}\n",
    "wordsum = {}\n",
    "wordsos = {}\n",
    "wordmin = {}\n",
    "wordmax = {}\n",
    "\n",
    "for line in reducer_small:\n",
    "    # remove leading and trailing whitespace\n",
    "    line = line.strip()\n",
    "    # parse input from mapper\n",
    "    word, count = line.split('\\t', 1)\n",
    "    count = int(count)\n",
    "     \n",
    "    #Calculate count of lines each word appears\n",
    "    if word not in wordcount:\n",
    "        wordcount[word] = 1\n",
    "    else:\n",
    "        wordcount[word] += 1\n",
    "    \n",
    "    #Calculate total times each word appears\n",
    "    if word not in wordsum:\n",
    "        wordsum[word] = count\n",
    "    else:\n",
    "        wordsum[word] += count\n",
    "        \n",
    "    #Calculate sum of squares\n",
    "    if word not in wordsos:\n",
    "        wordsos[word] = (count**2)\n",
    "    else:\n",
    "        wordsos[word] += (count**2)\n",
    "        \n",
    "    #Calculate min\n",
    "    if word not in wordmin:\n",
    "        wordmin[word] = count\n",
    "    else:\n",
    "        if wordmin[word] > count:\n",
    "            wordmin[word] = count\n",
    "            \n",
    "    #Calculate max\n",
    "    if word not in wordmax:\n",
    "        wordmax[word] = count\n",
    "    else:\n",
    "        if wordmax[word] < count:\n",
    "            wordmax[word] = count\n",
    "            \n",
    "#Calculate mean\n",
    "wordmean = {k: float(wordsum[k])/wordcount[k] for k in wordsum}\n",
    "\n",
    "#Calculate variance\n",
    "wordvar = {k: float(wordsos[k])/wordcount[k] - wordmean[k]**2 for k in wordsos}\n",
    "\n",
    "#Print results\n",
    "for k in wordcount:\n",
    "    print '{}\\t\"{}\\t{}\\t{}\\t{}\\t{}\\t{:6.2f}\\t{:6.2f}\"'.format(k, wordcount[k], wordsum[k], wordsos[k], wordmin[k], wordmax[k], wordmean[k], wordvar[k])"
   ]
  },
  {
   "cell_type": "markdown",
   "metadata": {},
   "source": [
    "Mapper Function - Actual Script"
   ]
  },
  {
   "cell_type": "code",
   "execution_count": 127,
   "metadata": {
    "collapsed": true
   },
   "outputs": [],
   "source": [
    "#!/usr/bin/python\n",
    "import sys\n",
    "\n",
    "for line in sys.stdin:\n",
    "    #Convert to lowercase, remove line-breaks then split into words for each line\n",
    "    words = line.lower().strip().split(' ')\n",
    "\n",
    "    #Initialize word count dict\n",
    "    wordcount={}\n",
    "    \n",
    "    for word in words:\n",
    "        if word not in wordcount:\n",
    "            wordcount[word] = 1\n",
    "        else:\n",
    "            wordcount[word] += 1\n",
    "    for k,v in wordcount.items():\n",
    "        print '%s\\t%s' % (k, v)"
   ]
  },
  {
   "cell_type": "markdown",
   "metadata": {},
   "source": [
    "Reducer Function - Actual Script"
   ]
  },
  {
   "cell_type": "code",
   "execution_count": 126,
   "metadata": {
    "collapsed": true
   },
   "outputs": [],
   "source": [
    "#!/usr/bin/python\n",
    "import sys\n",
    "\n",
    "wordcount = {}\n",
    "wordsum = {}\n",
    "wordsos = {}\n",
    "wordmin = {}\n",
    "wordmax = {}\n",
    "\n",
    "for line in sys.stdin:\n",
    "    # remove leading and trailing whitespace\n",
    "    line = line.strip()\n",
    "    # parse input from mapper\n",
    "    word, count = line.split('\\t', 1)\n",
    "    count = int(count)\n",
    "     \n",
    "    #Calculate count of lines each word appears\n",
    "    if word not in wordcount:\n",
    "        wordcount[word] = 1\n",
    "    else:\n",
    "        wordcount[word] += 1\n",
    "    \n",
    "    #Calculate total times each word appears\n",
    "    if word not in wordsum:\n",
    "        wordsum[word] = count\n",
    "    else:\n",
    "        wordsum[word] += count\n",
    "        \n",
    "    #Calculate sum of squares\n",
    "    if word not in wordsos:\n",
    "        wordsos[word] = (count**2)\n",
    "    else:\n",
    "        wordsos[word] += (count**2)\n",
    "        \n",
    "    #Calculate min\n",
    "    if word not in wordmin:\n",
    "        wordmin[word] = count\n",
    "    else:\n",
    "        if wordmin[word] > count:\n",
    "            wordmin[word] = count\n",
    "            \n",
    "    #Calculate max\n",
    "    if word not in wordmax:\n",
    "        wordmax[word] = count\n",
    "    else:\n",
    "        if wordmax[word] < count:\n",
    "            wordmax[word] = count\n",
    "            \n",
    "#Calculate mean\n",
    "wordmean = {k: float(wordsum[k])/wordcount[k] for k in wordsum}\n",
    "\n",
    "#Calculate variance\n",
    "wordvar = {k: float(wordsos[k])/wordcount[k] - wordmean[k]**2 for k in wordsos}\n",
    "\n",
    "#Print results\n",
    "for k in wordcount:\n",
    "    print '{}\\t{}\\t{}\\t{}\\t{}\\t{}\\t{:6.2f}\\t{:6.2f}'.format(k, wordcount[k], wordsum[k], wordsos[k], wordmin[k], wordmax[k], wordmean[k], wordvar[k])"
   ]
  }
 ],
 "metadata": {
  "anaconda-cloud": {},
  "kernelspec": {
   "display_name": "Python [Root]",
   "language": "python",
   "name": "Python [Root]"
  },
  "language_info": {
   "codemirror_mode": {
    "name": "ipython",
    "version": 2
   },
   "file_extension": ".py",
   "mimetype": "text/x-python",
   "name": "python",
   "nbconvert_exporter": "python",
   "pygments_lexer": "ipython2",
   "version": "2.7.12"
  }
 },
 "nbformat": 4,
 "nbformat_minor": 0
}
